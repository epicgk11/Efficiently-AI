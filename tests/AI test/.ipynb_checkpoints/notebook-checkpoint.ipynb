{
 "cells": [
  {
   "cell_type": "markdown",
   "metadata": {
    "vscode": {
     "languageId": "plaintext"
    }
   },
   "source": [
    "## IMPORTING LIBRARIES"
   ]
  },
  {
   "cell_type": "code",
   "execution_count": 1,
   "metadata": {},
   "outputs": [
    {
     "name": "stdout",
     "output_type": "stream",
     "text": [
      "Requirement already satisfied: httpx==0.27.2 in /mnt/wwn-0x50014ee2bfbb982b-part1/SEM 7/AIE257 Full Stack Development/FSD Project/.linuxenv/lib/python3.12/site-packages (0.27.2)\n",
      "Requirement already satisfied: anyio in /mnt/wwn-0x50014ee2bfbb982b-part1/SEM 7/AIE257 Full Stack Development/FSD Project/.linuxenv/lib/python3.12/site-packages (from httpx==0.27.2) (4.6.2.post1)\n",
      "Requirement already satisfied: certifi in /mnt/wwn-0x50014ee2bfbb982b-part1/SEM 7/AIE257 Full Stack Development/FSD Project/.linuxenv/lib/python3.12/site-packages (from httpx==0.27.2) (2024.8.30)\n",
      "Requirement already satisfied: httpcore==1.* in /mnt/wwn-0x50014ee2bfbb982b-part1/SEM 7/AIE257 Full Stack Development/FSD Project/.linuxenv/lib/python3.12/site-packages (from httpx==0.27.2) (1.0.7)\n",
      "Requirement already satisfied: idna in /mnt/wwn-0x50014ee2bfbb982b-part1/SEM 7/AIE257 Full Stack Development/FSD Project/.linuxenv/lib/python3.12/site-packages (from httpx==0.27.2) (3.10)\n",
      "Requirement already satisfied: sniffio in /mnt/wwn-0x50014ee2bfbb982b-part1/SEM 7/AIE257 Full Stack Development/FSD Project/.linuxenv/lib/python3.12/site-packages (from httpx==0.27.2) (1.3.1)\n",
      "Requirement already satisfied: h11<0.15,>=0.13 in /mnt/wwn-0x50014ee2bfbb982b-part1/SEM 7/AIE257 Full Stack Development/FSD Project/.linuxenv/lib/python3.12/site-packages (from httpcore==1.*->httpx==0.27.2) (0.14.0)\n",
      "\n",
      "\u001b[1m[\u001b[0m\u001b[34;49mnotice\u001b[0m\u001b[1;39;49m]\u001b[0m\u001b[39;49m A new release of pip is available: \u001b[0m\u001b[31;49m24.1\u001b[0m\u001b[39;49m -> \u001b[0m\u001b[32;49m24.3.1\u001b[0m\n",
      "\u001b[1m[\u001b[0m\u001b[34;49mnotice\u001b[0m\u001b[1;39;49m]\u001b[0m\u001b[39;49m To update, run: \u001b[0m\u001b[32;49mpip install --upgrade pip\u001b[0m\n",
      "Note: you may need to restart the kernel to use updated packages.\n"
     ]
    }
   ],
   "source": [
    "%pip install httpx==0.27.2"
   ]
  },
  {
   "cell_type": "code",
   "execution_count": 14,
   "metadata": {},
   "outputs": [],
   "source": [
    "from langchain_core.pydantic_v1 import BaseModel, Field\n",
    "from typing import *\n",
    "import getpass\n",
    "import os\n",
    "import instructor\n",
    "from pydantic import BaseModel\n",
    "from groq import Groq"
   ]
  },
  {
   "cell_type": "code",
   "execution_count": 11,
   "metadata": {},
   "outputs": [
    {
     "data": {
      "text/plain": [
       "'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'"
      ]
     },
     "execution_count": 11,
     "metadata": {},
     "output_type": "execute_result"
    }
   ],
   "source": [
    "api_key = os.environ['FLST_GROQ_KEY']\n",
    "api_key"
   ]
  },
  {
   "cell_type": "code",
   "execution_count": 13,
   "metadata": {},
   "outputs": [
    {
     "name": "stdout",
     "output_type": "stream",
     "text": [
      "Name: John Doe\n",
      "Age: 35\n",
      "Email: johndoe@example.com\n"
     ]
    }
   ],
   "source": [
    "\n",
    "\n",
    "# Describe the desired output schema using pydantic models\n",
    "class UserInfo(BaseModel):\n",
    "    name: str\n",
    "    age: int\n",
    "    email: str\n",
    "\n",
    "# The text to extract data from\n",
    "text = \"\"\"\n",
    "John Doe, a 35-year-old software engineer from New York, has been working with large language models for several years.\n",
    "His email address is johndoe@example.com.\n",
    "\"\"\"\n",
    "\n",
    "# Patch Groq() with instructor, this is where the magic happens!\n",
    "client = instructor.from_groq(Groq(api_key=api_key), mode=instructor.Mode.JSON)\n",
    "\n",
    "# Call the API\n",
    "user_info = client.chat.completions.create(\n",
    "    model=\"llama-3.1-70b-versatile\",\n",
    "    response_model=UserInfo, # Specify the response model\n",
    "    messages=[\n",
    "        {\"role\": \"system\", \"content\": \"Your job is to extract user information from the given text.\"},\n",
    "        {\"role\": \"user\", \"content\": text}\n",
    "    ],\n",
    "    temperature=0.65,\n",
    ")\n",
    "\n",
    "print(f\"Name: {user_info.name}\")\n",
    "print(f\"Age: {user_info.age}\")\n",
    "print(f\"Email: {user_info.email}\")"
   ]
  },
  {
   "cell_type": "code",
   "execution_count": null,
   "metadata": {},
   "outputs": [],
   "source": [
    "class steps(BaseModel):\n",
    "    name:str\n",
    "    duedate:str\n",
    "    completed:bool\n",
    "\n",
    "class Tags(BaseModel):\n",
    "    name:str\n",
    "\n",
    "class task(BaseModel):\n",
    "    name:str\n",
    "    duedate:str\n",
    "    description:str\n",
    "    tags = List[Tags]\n",
    "    completed:bool"
   ]
  }
 ],
 "metadata": {
  "kernelspec": {
   "display_name": "Python 3 (ipykernel)",
   "language": "python",
   "name": "python3"
  },
  "language_info": {
   "codemirror_mode": {
    "name": "ipython",
    "version": 3
   },
   "file_extension": ".py",
   "mimetype": "text/x-python",
   "name": "python",
   "nbconvert_exporter": "python",
   "pygments_lexer": "ipython3",
   "version": "3.12.3"
  }
 },
 "nbformat": 4,
 "nbformat_minor": 4
}
