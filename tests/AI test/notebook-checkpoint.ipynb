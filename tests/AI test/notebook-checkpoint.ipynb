{
 "cells": [
  {
   "cell_type": "markdown",
   "metadata": {
    "vscode": {
     "languageId": "plaintext"
    }
   },
   "source": [
    "## IMPORTING LIBRARIES"
   ]
  },
  {
   "cell_type": "code",
   "execution_count": 68,
   "metadata": {},
   "outputs": [
    {
     "name": "stdout",
     "output_type": "stream",
     "text": [
      "Requirement already satisfied: httpx==0.27.2 in /mnt/wwn-0x50014ee2bfbb982b-part1/SEM 7/AIE257 Full Stack Development/FSD Project/.linuxenv/lib/python3.12/site-packages (0.27.2)\n",
      "Requirement already satisfied: anyio in /mnt/wwn-0x50014ee2bfbb982b-part1/SEM 7/AIE257 Full Stack Development/FSD Project/.linuxenv/lib/python3.12/site-packages (from httpx==0.27.2) (4.6.2.post1)\n",
      "Requirement already satisfied: certifi in /mnt/wwn-0x50014ee2bfbb982b-part1/SEM 7/AIE257 Full Stack Development/FSD Project/.linuxenv/lib/python3.12/site-packages (from httpx==0.27.2) (2024.8.30)\n",
      "Requirement already satisfied: httpcore==1.* in /mnt/wwn-0x50014ee2bfbb982b-part1/SEM 7/AIE257 Full Stack Development/FSD Project/.linuxenv/lib/python3.12/site-packages (from httpx==0.27.2) (1.0.7)\n",
      "Requirement already satisfied: idna in /mnt/wwn-0x50014ee2bfbb982b-part1/SEM 7/AIE257 Full Stack Development/FSD Project/.linuxenv/lib/python3.12/site-packages (from httpx==0.27.2) (3.10)\n",
      "Requirement already satisfied: sniffio in /mnt/wwn-0x50014ee2bfbb982b-part1/SEM 7/AIE257 Full Stack Development/FSD Project/.linuxenv/lib/python3.12/site-packages (from httpx==0.27.2) (1.3.1)\n",
      "Requirement already satisfied: h11<0.15,>=0.13 in /mnt/wwn-0x50014ee2bfbb982b-part1/SEM 7/AIE257 Full Stack Development/FSD Project/.linuxenv/lib/python3.12/site-packages (from httpcore==1.*->httpx==0.27.2) (0.14.0)\n",
      "\n",
      "\u001b[1m[\u001b[0m\u001b[34;49mnotice\u001b[0m\u001b[1;39;49m]\u001b[0m\u001b[39;49m A new release of pip is available: \u001b[0m\u001b[31;49m24.1\u001b[0m\u001b[39;49m -> \u001b[0m\u001b[32;49m24.3.1\u001b[0m\n",
      "\u001b[1m[\u001b[0m\u001b[34;49mnotice\u001b[0m\u001b[1;39;49m]\u001b[0m\u001b[39;49m To update, run: \u001b[0m\u001b[32;49mpip install --upgrade pip\u001b[0m\n",
      "Note: you may need to restart the kernel to use updated packages.\n"
     ]
    }
   ],
   "source": [
    "%pip install httpx==0.27.2"
   ]
  },
  {
   "cell_type": "code",
   "execution_count": 81,
   "metadata": {},
   "outputs": [],
   "source": [
    "from typing import *\n",
    "from pydantic import *\n",
    "from langchain_groq import ChatGroq\n",
    "from datetime import date\n",
    "import json"
   ]
  },
  {
   "cell_type": "code",
   "execution_count": 70,
   "metadata": {},
   "outputs": [
    {
     "data": {
      "text/plain": [
       "'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'"
      ]
     },
     "execution_count": 70,
     "metadata": {},
     "output_type": "execute_result"
    }
   ],
   "source": [
    "api_key = os.environ['FLST_GROQ_KEY']\n",
    "api_key"
   ]
  },
  {
   "cell_type": "code",
   "execution_count": 71,
   "metadata": {},
   "outputs": [],
   "source": [
    "class Step(BaseModel):\n",
    "    name: str = Field(description=\"A brief title summarizing the step to be completed.\")\n",
    "    duedate: str = Field(description=\"The due date for completing this step, strictly formatted as MM-DD-YYYY.\")\n",
    "\n",
    "class Tag(BaseModel):\n",
    "    name: str = Field(description=\"A tag or keyword to categorize and identify the task.\")\n",
    "\n",
    "class Task(BaseModel):\n",
    "    name: str = Field(description=\"The name of the task, providing a concise summary of its purpose.\")\n",
    "    description: str = Field(description=\"A detailed explanation of the task, including its goals and requirements.\")\n",
    "    resources: str = Field(description=\"A list of resources required to complete the task and its steps, mentioned separately and clearly.\")\n",
    "    tags: list[Tag] = Field(description=\"A list of tags categorizing the task for easier identification.\")\n",
    "    steps: list[Step] = Field(description=\"A list of steps involved in completing the task, with each step including its name and due date.\")\n"
   ]
  },
  {
   "cell_type": "code",
   "execution_count": 72,
   "metadata": {},
   "outputs": [
    {
     "data": {
      "text/plain": [
       "'2024-12-09'"
      ]
     },
     "execution_count": 72,
     "metadata": {},
     "output_type": "execute_result"
    }
   ],
   "source": [
    "str(date.today())"
   ]
  },
  {
   "cell_type": "code",
   "execution_count": 76,
   "metadata": {},
   "outputs": [],
   "source": [
    "def get_prompt(request):\n",
    "    curr_date = str(date.today())\n",
    "    system_prompt = f\"\"\"You are an advanced task generation assistant, designed to break down user requests into actionable and structured tasks. Your purpose is to help users organize their goals into a detailed, well-defined `Task` model. Follow these instructions:\n",
    "\n",
    "1. **Task Fields Identification**:\n",
    "   Analyze the user-provided request carefully and generate the following fields:\n",
    "   - **Name**: Create a concise, meaningful title that summarizes the purpose of the task.\n",
    "   - **Due Date**: Identify the final deadline for the task in the format 'YYYY-MM-DD'. If not explicitly mentioned, use today's date ({curr_date}) as a reference and distribute due dates for steps logically.\n",
    "   - **Description**: Provide a clear, detailed explanation of the task, including its objectives, goals, and requirements.\n",
    "   - **Tags**: Suggest relevant keywords or labels for categorizing the task, such as its domain, priority level, or type.\n",
    "   - **Steps**: Break down the task into a list of smaller steps, each including:\n",
    "       - A short, actionable name describing the step.\n",
    "       - A logical due date relative to the overall deadline.\n",
    "       - A default completion status set to `false`. Make sure to striclty set the same\n",
    "   - **Resources**: Specify any tools, references, or materials required to complete the task and its individual steps. Ensure resources are clearly associated with relevant steps if possible.\n",
    "\n",
    "2. **Intelligent Suggestions**:\n",
    "   - If the user does not provide a due date, logically estimate deadlines for each step. Today's date for reference : {curr_date}\n",
    "   - If the user's request is vague or lacks details, propose a plausible task based on the context and guide them toward successful completion.\n",
    "\n",
    "3. **Output Formatting**:\n",
    "   - Ensure all outputs are in a valid JSON format and adhere to the `Task` model schema.\n",
    "\n",
    "4. **Example Task Model**:\n",
    "   Below is an example of a structured task output you should follow:\"\"\"\n",
    "\n",
    "    system_prompt += \"\"\"json\n",
    "   {\n",
    "       \"name\": \"Birthday Party Planning\",\n",
    "       \"duedate\": \"2024-12-19\",\n",
    "       \"description\": \"Plan and organize a birthday party, including venue booking, sending invitations, arranging catering, and decorations.\",\n",
    "       \"tags\": [\n",
    "           {\"name\": \"event\"},\n",
    "           {\"name\": \"birthday\"},\n",
    "           {\"name\": \"priority\"}\n",
    "       ],\n",
    "       \"steps\": [\n",
    "           {\"name\": \"Book a venue\", \"duedate\": \"2024-12-10\", \"completed\": false},\n",
    "           {\"name\": \"Send invitations\", \"duedate\": \"2024-12-12\", \"completed\": false},\n",
    "           {\"name\": \"Organize catering\", \"duedate\": \"2024-12-15\", \"completed\": false},\n",
    "           {\"name\": \"Decorate the space\", \"duedate\": \"2024-12-19\", \"completed\": false}\n",
    "       ],\n",
    "       \"resources\": \"1. Online invitation maker for invites. 2. Contact numbers for caterers. 3. List of decoration supplies.\"\n",
    "   }\"\"\" \n",
    "    return system_prompt + f'''\\n\\nuser's prompt : {request}'''\n"
   ]
  },
  {
   "cell_type": "code",
   "execution_count": 79,
   "metadata": {},
   "outputs": [],
   "source": [
    "class Step(BaseModel):\n",
    "    name: str = Field(description=\"A brief title summarizing the step to be completed.\")\n",
    "    duedate: str = Field(description=\"The due date for completing this step, strictly formatted as MM-DD-YYYY.\")\n",
    "    completed:bool = Field(description=\"Whether the particular step has been completed infer the same from user prompt\")\n",
    "\n",
    "class Tag(BaseModel):\n",
    "    name: str = Field(description=\"A tag or keyword to categorize and identify the task.\")\n",
    "\n",
    "class Task(BaseModel):\n",
    "    name: str = Field(description=\"The name of the task, providing a concise summary of its purpose.\")\n",
    "    description: str = Field(description=\"A detailed explanation of the task, including its goals and requirements.\")\n",
    "    resources: str = Field(description=\"A list of resources required to complete the task and its steps, mentioned separately and clearly. Also if possible mention the task no for the resource \")\n",
    "    tags: list[Tag] = Field(description=\"A list of tags categorizing the task for easier identification.\")\n",
    "    steps: list[Step] = Field(description=\"A list of steps involved in completing the task, with each step including its name and due date.\")"
   ]
  },
  {
   "cell_type": "code",
   "execution_count": 83,
   "metadata": {},
   "outputs": [
    {
     "ename": "TypeError",
     "evalue": "the JSON object must be str, bytes or bytearray, not Task",
     "output_type": "error",
     "traceback": [
      "\u001b[0;31m---------------------------------------------------------------------------\u001b[0m",
      "\u001b[0;31mTypeError\u001b[0m                                 Traceback (most recent call last)",
      "Cell \u001b[0;32mIn[83], line 2\u001b[0m\n\u001b[1;32m      1\u001b[0m client \u001b[38;5;241m=\u001b[39m ChatGroq(model \u001b[38;5;241m=\u001b[39m \u001b[38;5;124m\"\u001b[39m\u001b[38;5;124mllama-3.1-70b-versatile\u001b[39m\u001b[38;5;124m\"\u001b[39m,api_key\u001b[38;5;241m=\u001b[39mapi_key)\n\u001b[0;32m----> 2\u001b[0m \u001b[43mjson\u001b[49m\u001b[38;5;241;43m.\u001b[39;49m\u001b[43mloads\u001b[49m\u001b[43m(\u001b[49m\u001b[43mclient\u001b[49m\u001b[38;5;241;43m.\u001b[39;49m\u001b[43mwith_structured_output\u001b[49m\u001b[43m(\u001b[49m\u001b[43mTask\u001b[49m\u001b[43m)\u001b[49m\u001b[38;5;241;43m.\u001b[39;49m\u001b[43minvoke\u001b[49m\u001b[43m(\u001b[49m\u001b[43mget_prompt\u001b[49m\u001b[43m(\u001b[49m\u001b[38;5;124;43m\"\u001b[39;49m\u001b[38;5;124;43mstudy python from scratcg with begginer to advanced projects give me resource link and also vedios link\u001b[39;49m\u001b[38;5;124;43m\"\u001b[39;49m\u001b[43m)\u001b[49m\u001b[43m)\u001b[49m\u001b[43m)\u001b[49m\n",
      "File \u001b[0;32m/usr/lib/python3.12/json/__init__.py:339\u001b[0m, in \u001b[0;36mloads\u001b[0;34m(s, cls, object_hook, parse_float, parse_int, parse_constant, object_pairs_hook, **kw)\u001b[0m\n\u001b[1;32m    337\u001b[0m \u001b[38;5;28;01melse\u001b[39;00m:\n\u001b[1;32m    338\u001b[0m     \u001b[38;5;28;01mif\u001b[39;00m \u001b[38;5;129;01mnot\u001b[39;00m \u001b[38;5;28misinstance\u001b[39m(s, (\u001b[38;5;28mbytes\u001b[39m, \u001b[38;5;28mbytearray\u001b[39m)):\n\u001b[0;32m--> 339\u001b[0m         \u001b[38;5;28;01mraise\u001b[39;00m \u001b[38;5;167;01mTypeError\u001b[39;00m(\u001b[38;5;124mf\u001b[39m\u001b[38;5;124m'\u001b[39m\u001b[38;5;124mthe JSON object must be str, bytes or bytearray, \u001b[39m\u001b[38;5;124m'\u001b[39m\n\u001b[1;32m    340\u001b[0m                         \u001b[38;5;124mf\u001b[39m\u001b[38;5;124m'\u001b[39m\u001b[38;5;124mnot \u001b[39m\u001b[38;5;132;01m{\u001b[39;00ms\u001b[38;5;241m.\u001b[39m\u001b[38;5;18m__class__\u001b[39m\u001b[38;5;241m.\u001b[39m\u001b[38;5;18m__name__\u001b[39m\u001b[38;5;132;01m}\u001b[39;00m\u001b[38;5;124m'\u001b[39m)\n\u001b[1;32m    341\u001b[0m     s \u001b[38;5;241m=\u001b[39m s\u001b[38;5;241m.\u001b[39mdecode(detect_encoding(s), \u001b[38;5;124m'\u001b[39m\u001b[38;5;124msurrogatepass\u001b[39m\u001b[38;5;124m'\u001b[39m)\n\u001b[1;32m    343\u001b[0m \u001b[38;5;28;01mif\u001b[39;00m (\u001b[38;5;28mcls\u001b[39m \u001b[38;5;129;01mis\u001b[39;00m \u001b[38;5;28;01mNone\u001b[39;00m \u001b[38;5;129;01mand\u001b[39;00m object_hook \u001b[38;5;129;01mis\u001b[39;00m \u001b[38;5;28;01mNone\u001b[39;00m \u001b[38;5;129;01mand\u001b[39;00m\n\u001b[1;32m    344\u001b[0m         parse_int \u001b[38;5;129;01mis\u001b[39;00m \u001b[38;5;28;01mNone\u001b[39;00m \u001b[38;5;129;01mand\u001b[39;00m parse_float \u001b[38;5;129;01mis\u001b[39;00m \u001b[38;5;28;01mNone\u001b[39;00m \u001b[38;5;129;01mand\u001b[39;00m\n\u001b[1;32m    345\u001b[0m         parse_constant \u001b[38;5;129;01mis\u001b[39;00m \u001b[38;5;28;01mNone\u001b[39;00m \u001b[38;5;129;01mand\u001b[39;00m object_pairs_hook \u001b[38;5;129;01mis\u001b[39;00m \u001b[38;5;28;01mNone\u001b[39;00m \u001b[38;5;129;01mand\u001b[39;00m \u001b[38;5;129;01mnot\u001b[39;00m kw):\n",
      "\u001b[0;31mTypeError\u001b[0m: the JSON object must be str, bytes or bytearray, not Task"
     ]
    }
   ],
   "source": [
    "client = ChatGroq(model = \"llama-3.1-70b-versatile\",api_key=api_key)\n",
    "json.loads(client.with_structured_output(Task).invoke(get_prompt(\"study python from scratcg with begginer to advanced projects give me resource link and also vedios link\")))"
   ]
  },
  {
   "cell_type": "code",
   "execution_count": null,
   "metadata": {},
   "outputs": [],
   "source": []
  }
 ],
 "metadata": {
  "kernelspec": {
   "display_name": "Python 3 (ipykernel)",
   "language": "python",
   "name": "python3"
  },
  "language_info": {
   "codemirror_mode": {
    "name": "ipython",
    "version": 3
   },
   "file_extension": ".py",
   "mimetype": "text/x-python",
   "name": "python",
   "nbconvert_exporter": "python",
   "pygments_lexer": "ipython3",
   "version": "3.12.3"
  }
 },
 "nbformat": 4,
 "nbformat_minor": 4
}
